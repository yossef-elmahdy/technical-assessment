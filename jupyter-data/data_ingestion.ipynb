{
 "cells": [
  {
   "cell_type": "code",
   "execution_count": 4,
   "id": "7c3487a3-4064-47d9-919c-e21c1b62b274",
   "metadata": {},
   "outputs": [
    {
     "name": "stdout",
     "output_type": "stream",
     "text": [
      "Collecting psycopg2-binary\n",
      "  Downloading psycopg2_binary-2.9.9-cp311-cp311-manylinux_2_17_x86_64.manylinux2014_x86_64.whl.metadata (4.4 kB)\n",
      "Downloading psycopg2_binary-2.9.9-cp311-cp311-manylinux_2_17_x86_64.manylinux2014_x86_64.whl (3.0 MB)\n",
      "\u001b[2K   \u001b[90m━━━━━━━━━━━━━━━━━━━━━━━━━━━━━━━━━━━━━━━━\u001b[0m \u001b[32m3.0/3.0 MB\u001b[0m \u001b[31m748.6 kB/s\u001b[0m eta \u001b[36m0:00:00\u001b[0m00:01\u001b[0m00:01\u001b[0m\n",
      "\u001b[?25hInstalling collected packages: psycopg2-binary\n",
      "Successfully installed psycopg2-binary-2.9.9\n"
     ]
    }
   ],
   "source": [
    "!pip install psycopg2-binary"
   ]
  },
  {
   "cell_type": "code",
   "execution_count": null,
   "id": "68326fc0-c749-4bf7-94d0-ed4c1ff6e503",
   "metadata": {},
   "outputs": [],
   "source": [
    "!pip install pandas "
   ]
  },
  {
   "cell_type": "code",
   "execution_count": null,
   "id": "9220b38a-287b-4cd7-9709-3cec4cb664a2",
   "metadata": {},
   "outputs": [],
   "source": [
    "from sqlalchemy import create_engine\n",
    "import pandas as pd\n",
    "from time import time"
   ]
  },
  {
   "cell_type": "code",
   "execution_count": 24,
   "id": "6872f5a4-9686-4a2e-84ca-016f2e4051e2",
   "metadata": {},
   "outputs": [],
   "source": [
    "def database_connect(user, password, host, port, db):\n",
    "    engine = create_engine(\n",
    "        f'postgresql://{user}:{password}@{host}:{port}/{db}')\n",
    "    engine.connect()\n",
    "    return engine\n",
    "\n",
    "def fetch_data(url, csv_name): \n",
    "    os.system(f\"wget {url} -O {csv_name}\")\n",
    "\n",
    "def batch_load_data(engine, csv_file, table_name): \n",
    "    df_iter = pd.read_csv(csv_file, iterator=True, chunksize=100000)\n",
    "    df = next(df_iter)\n",
    "\n",
    "    df.head(n=0).to_sql(name=table_name, con=engine, if_exists='replace')\n",
    "    df.to_sql(name=table_name, con=engine, if_exists='append')\n",
    "\n",
    "    elapsed_time = -1\n",
    "    try:\n",
    "        t_start = time()\n",
    "        chuncks_cnt = 0\n",
    "        \n",
    "        while True:\n",
    "            chuncks_cnt += 1\n",
    "            chunck_start = time()\n",
    "        \n",
    "            df = next(df_iter)\n",
    "            df.to_sql(name=table_name, con=engine, if_exists='append')\n",
    "            print(f'Inserted chunck {chuncks_cnt} in {time()-chunck_start:.3}s')\n",
    "    except:\n",
    "        elapsed_time = time() - t_start \n",
    "        print(f'Finished ingestion into table: {table_name}')\n",
    "        print(f'Number of chuncks: {chuncks_cnt}')\n",
    "        print(f'Time taken: {elapsed_time:.3}s')\n",
    "        \n",
    "    return elapsed_time\n",
    "    "
   ]
  },
  {
   "cell_type": "code",
   "execution_count": 35,
   "id": "5f0423dc-3b27-4a8d-8303-4c051e8532cd",
   "metadata": {},
   "outputs": [],
   "source": [
    "db_engine = database_connect('root', 'root', 'postgres-db', '5432', 'RetailDB')"
   ]
  },
  {
   "cell_type": "code",
   "execution_count": 34,
   "id": "d4d7218a-9b6c-4fcc-93c7-12b6cf065d54",
   "metadata": {},
   "outputs": [
    {
     "name": "stdout",
     "output_type": "stream",
     "text": [
      "Inserted chunck 1 in 3.63s\n",
      "Inserted chunck 2 in 2.94s\n",
      "Inserted chunck 3 in 3.07s\n",
      "Inserted chunck 4 in 3.13s\n",
      "Inserted chunck 5 in 1.22s\n",
      "Finished ingestion into table: online_retail\n",
      "Number of chuncks: 6\n",
      "Time taken: 14.0s\n"
     ]
    },
    {
     "data": {
      "text/plain": [
       "13.997101068496704"
      ]
     },
     "execution_count": 34,
     "metadata": {},
     "output_type": "execute_result"
    }
   ],
   "source": [
    "batch_load_data(db_engine, 'online_retail.csv', 'online_retail')"
   ]
  }
 ],
 "metadata": {
  "kernelspec": {
   "display_name": "Python 3 (ipykernel)",
   "language": "python",
   "name": "python3"
  },
  "language_info": {
   "codemirror_mode": {
    "name": "ipython",
    "version": 3
   },
   "file_extension": ".py",
   "mimetype": "text/x-python",
   "name": "python",
   "nbconvert_exporter": "python",
   "pygments_lexer": "ipython3",
   "version": "3.11.6"
  }
 },
 "nbformat": 4,
 "nbformat_minor": 5
}
